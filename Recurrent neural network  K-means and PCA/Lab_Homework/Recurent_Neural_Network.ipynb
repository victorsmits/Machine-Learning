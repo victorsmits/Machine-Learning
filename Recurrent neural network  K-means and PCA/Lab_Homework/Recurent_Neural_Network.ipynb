{
 "cells": [
  {
   "cell_type": "code",
   "execution_count": 4,
   "metadata": {
    "collapsed": true,
    "pycharm": {
     "is_executing": false
    }
   },
   "outputs": [],
   "source": [
    "import numpy as np\n",
    "import matplotlib.pyplot as plt"
   ]
  },
  {
   "cell_type": "code",
   "execution_count": 5,
   "outputs": [],
   "source": [
    "class ElmanNeuralNetwork:\n",
    "    def __init__(self, dataset_size, total_sequence_number, train_sequence, alpha_f, alpha_x, method, iteration_max = 1000):\n",
    "        self.total_sequence_index = total_sequence_number\n",
    "        self.alpha_f = alpha_f\n",
    "        self.alpha_x = alpha_x\n",
    "        self.method = method\n",
    "        self.iteration_max = iteration_max\n",
    "        \n",
    "        self.data_x = np.random.randint(2, size=(dataset_size,total_sequence_number))\n",
    "        self.train_data = self.data_x[:train_sequence]\n",
    "        self.output_train_data = self.generate_train_output()\n",
    "        self.test_data = self.data_x[dataset_size - train_sequence :]\n",
    "        \n",
    "        self.v_neurons = np.random.rand(2,1)\n",
    "        \n",
    "        self.predicted_value = np.zeros([np.size(self.train_data,0),1])\n",
    "        \n",
    "        self.error_log = []\n",
    "     \n",
    "    def generate_train_output(self):\n",
    "        output = np.zeros([np.size(self.train_data,0),1])\n",
    "        for i in range(np.size(self.train_data,0)):\n",
    "            output[i,:] = np.sum(self.train_data[i,:])\n",
    "        return output\n",
    "    \n",
    "    \n",
    "    def froward_propagation(self, x_value, f_value):\n",
    "        return (self.v_neurons[0] * f_value) + (self.v_neurons[1] * x_value) \n",
    "    \n",
    "    def back_propagation(self):\n",
    "        v_f_delta = 0\n",
    "        v_x_delta = 0\n",
    "        for t in range(self.total_sequence_index):\n",
    "            # TODO fix index error \n",
    "            v_f_delta += (np.sum(self.delta() * self.predicted_value[t])) * (self.v_neurons[0,:] ** (self.total_sequence_index - t)) \n",
    "            v_x_delta += (np.sum(self.delta() * self.train_data[t])) * (self.v_neurons[0,:] ** (self.total_sequence_index - t)) \n",
    "        \n",
    "        self.v_neurons[0,:] -=  self.alpha_f * v_f_delta\n",
    "        self.v_neurons[1,:] -=  self.alpha_x * v_x_delta\n",
    "        \n",
    "    def resilient_propagation(self):\n",
    "        return \n",
    "    \n",
    "    def delta(self):\n",
    "       return self.predicted_value - self.output_train_data\n",
    "    \n",
    "    def error(self):\n",
    "        squares = self.delta() ** 2\n",
    "        return np.sum(squares) / 2 \n",
    "    \n",
    "    def train_model(self):\n",
    "        for iter in range(self.iteration_max):\n",
    "            self.predicted_value = np.zeros([np.size(self.train_data,0),1])\n",
    "            for i in range(np.size(self.train_data,0)):\n",
    "                f_value = 0\n",
    "                for j in range(np.size(self.train_data,1)):\n",
    "                    f_value = self.froward_propagation(self.train_data[i,j],f_value)[0]\n",
    "                \n",
    "                self.predicted_value[i,:] = f_value\n",
    "                \n",
    "            self.error_log.append(self.error())\n",
    "            \n",
    "            if self.method == \"BP\":\n",
    "                self.back_propagation()\n",
    "            \n",
    "            if self.method == \"RP\":\n",
    "                self.resilient_propagation()\n",
    "                \n",
    "    def test_model(self):\n",
    "        for i in range(np.size(self.train_data,0)):\n",
    "                f_value = 0\n",
    "                for j in range(np.size(self.train_data,1)):\n",
    "                    f_value = self.froward_propagation(self.train_data[i,j],f_value)\n",
    "                self.predicted_value.append(f_value)\n",
    "        \n",
    "    def show_error_log(self):\n",
    "        plt.plot(self.error_log)\n",
    "        plt.ylabel(\"Error\")\n",
    "        plt.xlabel(\"Itteration\")\n",
    "        plt.show()\n",
    "    \n",
    "        "
   ],
   "metadata": {
    "collapsed": false,
    "pycharm": {
     "name": "#%%\n",
     "is_executing": false
    }
   }
  },
  {
   "cell_type": "code",
   "execution_count": 6,
   "outputs": [
    {
     "name": "stderr",
     "text": [
      "/Users/victorsmits/.conda/envs/Jupyter/lib/python3.7/site-packages/ipykernel_launcher.py:35: RuntimeWarning: overflow encountered in multiply\n",
      "/Users/victorsmits/.conda/envs/Jupyter/lib/python3.7/site-packages/ipykernel_launcher.py:28: RuntimeWarning: invalid value encountered in multiply\n"
     ],
     "output_type": "stream"
    },
    {
     "data": {
      "text/plain": "<Figure size 432x288 with 1 Axes>",
      "image/png": "[encoded data removed]"
     },
     "metadata": {
      "needs_background": "light"
     },
     "output_type": "display_data"
    },
    {
     "name": "stdout",
     "text": [
      "[[nan]\n",
      " [nan]\n",
      " [nan]\n",
      " [nan]\n",
      " [nan]\n",
      " [nan]\n",
      " [nan]\n",
      " [nan]\n",
      " [nan]\n",
      " [nan]\n",
      " [nan]\n",
      " [nan]\n",
      " [nan]\n",
      " [nan]\n",
      " [nan]\n",
      " [nan]\n",
      " [nan]\n",
      " [nan]\n",
      " [nan]\n",
      " [nan]\n",
      " [nan]\n",
      " [nan]\n",
      " [nan]\n",
      " [nan]\n",
      " [nan]\n",
      " [nan]\n",
      " [nan]\n",
      " [nan]\n",
      " [nan]\n",
      " [nan]]\n"
     ],
     "output_type": "stream"
    }
   ],
   "source": [
    "elman = ElmanNeuralNetwork(dataset_size = 40, total_sequence_number = 8, train_sequence = 30,\n",
    "                           alpha_f=1e-2, alpha_x=1e-2, method = \"BP\", iteration_max = 100 )\n",
    "\n",
    "elman.train_model()\n",
    "\n",
    "elman.show_error_log()\n",
    "\n",
    "print(elman.predicted_value)"
   ],
   "metadata": {
    "collapsed": false,
    "pycharm": {
     "name": "#%%\n",
     "is_executing": false
    }
   }
  },
  {
   "cell_type": "code",
   "execution_count": 6,
   "outputs": [],
   "source": [
    "\n"
   ],
   "metadata": {
    "collapsed": false,
    "pycharm": {
     "name": "#%%\n",
     "is_executing": false
    }
   }
  }
 ],
 "metadata": {
  "kernelspec": {
   "display_name": "Python 3",
   "language": "python",
   "name": "python3"
  },
  "language_info": {
   "codemirror_mode": {
    "name": "ipython",
    "version": 2
   },
   "file_extension": ".py",
   "mimetype": "text/x-python",
   "name": "python",
   "nbconvert_exporter": "python",
   "pygments_lexer": "ipython2",
   "version": "2.7.6"
  },
  "pycharm": {
   "stem_cell": {
    "cell_type": "raw",
    "source": [],
    "metadata": {
     "collapsed": false
    }
   }
  }
 },
 "nbformat": 4,
 "nbformat_minor": 0
}