{
 "cells": [
  {
   "cell_type": "code",
   "execution_count": 174,
   "metadata": {
    "collapsed": true
   },
   "outputs": [],
   "source": [
    "import numpy as np\n",
    "import matplotlib.pyplot as plt\n",
    "import pandas as pd"
   ]
  },
  {
   "cell_type": "code",
   "execution_count": 175,
   "outputs": [],
   "source": [
    "class ElmanNeuralNetwork:\n",
    "    def __init__(self, dataset_size, total_sequence_number, train_sequence, alpha_f, alpha_x, method,\n",
    "                 iteration_max=1000):\n",
    "        \n",
    "        # Private variable\n",
    "        self.__total_sequence_index = total_sequence_number\n",
    "        self.__alpha_f = alpha_f\n",
    "        self.__alpha_x= alpha_x\n",
    "        self.__method = method\n",
    "        self.__iteration_max = iteration_max\n",
    "\n",
    "        self.__delta_x = 0.001\n",
    "        self.__delta_f = 0.001\n",
    "        self.__eta_p = 1.2\n",
    "        self.__eta_n = 0.5\n",
    "        self.__sign_d_x = 0\n",
    "        self.__sign_d_f = 0\n",
    "        \n",
    "        # Public variable\n",
    "        self.v_neurons = np.random.rand(2, 1)\n",
    "\n",
    "        self.data_x = np.random.randint(2, size=(dataset_size, total_sequence_number))\n",
    "\n",
    "        self.train_data = self.data_x[:train_sequence]\n",
    "        self.output_train_data = self.__generate_train_output()\n",
    "\n",
    "        self.test_data = self.data_x[(total_sequence_number - train_sequence):]\n",
    "\n",
    "        self.predicted_value = np.zeros([np.size(self.train_data, 0), 1])\n",
    "        self.predicted_result = []\n",
    "        self.__error_log = []\n",
    "    \n",
    "    # Private Methode\n",
    "    \n",
    "    def __generate_train_output(self):\n",
    "        output = np.zeros([np.size(self.train_data, 0), 1])\n",
    "        for i in range(np.size(self.train_data, 0)):\n",
    "            output[i, :] = np.sum(self.train_data[i, :])\n",
    "        return output\n",
    "\n",
    "    def __generate_test_output(self):\n",
    "        output = []\n",
    "        for i in range(np.size(self.test_data, 0)):\n",
    "            output.append(np.sum(self.test_data[i, :]))\n",
    "        return output\n",
    "\n",
    "    def __delta_v_f(self):\n",
    "        delta = 0\n",
    "        for t in range(self.__total_sequence_index):\n",
    "            delta += (np.sum(self.__delta() * self.predicted_value[t])) * \\\n",
    "                     (self.v_neurons[0, :] ** (self.__total_sequence_index - t))\n",
    "        return delta\n",
    "\n",
    "    def __delta_v_x(self):\n",
    "        delta = 0\n",
    "        for t in range(self.__total_sequence_index):\n",
    "            delta += (np.sum(self.__delta() * self.train_data[t])) * \\\n",
    "                     (self.v_neurons[0, :] ** (self.__total_sequence_index - t))\n",
    "        return delta\n",
    "\n",
    "    @staticmethod\n",
    "    def __sign_x(x):\n",
    "        if x > 0:\n",
    "            return 1\n",
    "        else:\n",
    "            return -1\n",
    "\n",
    "    def __switch_delta(self, x, y, d):\n",
    "        if x == y:\n",
    "            return d * self.__eta_p\n",
    "        else:\n",
    "            return d * self.__eta_n\n",
    "    \n",
    "    def __delta(self):\n",
    "        return self.predicted_value - self.output_train_data\n",
    "\n",
    "    def __error(self):\n",
    "        squares = self.__delta() ** 2\n",
    "        return np.sum(squares) / 2\n",
    "    \n",
    "    def __froward_propagation(self, x_value, f_value):\n",
    "        return (self.v_neurons[0] * f_value) + (self.v_neurons[1] * x_value)\n",
    "\n",
    "    def __back_propagation(self):\n",
    "        self.v_neurons[0, :] -= self.__alpha_f * self.__delta_v_f()\n",
    "        self.v_neurons[1, :] -= self.__alpha_x* self.__delta_v_x()\n",
    "\n",
    "    def __resilient_propagation(self):\n",
    "        d_f = self.__sign_x(self.__delta_v_f())\n",
    "        d_x = self.__sign_x(self.__delta_v_x())\n",
    "        \n",
    "        self.v_neurons[0, :] -= d_f * self.__switch_delta(d_f, self.__sign_d_f, self.__delta_f)\n",
    "        self.v_neurons[1, :] -= d_f * self.__switch_delta(d_x, self.__sign_d_x, self.__delta_x)\n",
    "    \n",
    "    # Public Methode\n",
    "\n",
    "    def train_model(self):\n",
    "        for iter in range(self.__iteration_max):\n",
    "            self.predicted_value = np.zeros([np.size(self.train_data, 0), 1])\n",
    "            for i in range(np.size(self.train_data, 0)):\n",
    "                f_value = 0\n",
    "                for j in range(np.size(self.train_data, 1)):\n",
    "                    f_value = self.__froward_propagation(self.train_data[i, j], f_value)[0]\n",
    "\n",
    "                self.predicted_value[i,:] = f_value\n",
    "\n",
    "            self.__error_log.append(self.__error())\n",
    "\n",
    "            if self.__method == \"BP\":\n",
    "                self.__back_propagation()\n",
    "\n",
    "            if self.__method == \"RP\":\n",
    "                self.__resilient_propagation()\n",
    "\n",
    "    def test_model(self,test_data=None):\n",
    "        if test_data is not None :\n",
    "            self.test_data = test_data\n",
    "        for i in range(np.size(self.test_data, 0)):\n",
    "            f_value = 0\n",
    "            for j in range(np.size(self.test_data, 1)):\n",
    "                f_value = self.__froward_propagation(self.test_data[i, j], f_value)\n",
    "            self.predicted_result.append(f_value.tolist()[0])\n",
    "\n",
    "    def show_error_log(self):\n",
    "        plt.plot(self.__error_log)\n",
    "        plt.ylabel(\"__error\")\n",
    "        plt.xlabel(\"Itteration\")\n",
    "        plt.show()\n",
    "\n",
    "    def show_train_data_frame(self):\n",
    "        d = {'train data': self.output_train_data.transpose().tolist()[0],\n",
    "             'train predicted result': self.predicted_value.transpose().tolist()[0]}\n",
    "        return pd.DataFrame(data=d)\n",
    "\n",
    "    def show_test_data_frame(self):\n",
    "        test_out = self.__generate_test_output()\n",
    "        print(test_out)\n",
    "        print(self.predicted_result)\n",
    "        d = {'real test result': test_out,\n",
    "             'test predicted result': self.predicted_result}\n",
    "        return pd.DataFrame(data=d)"
   ],
   "metadata": {
    "collapsed": false,
    "pycharm": {
     "name": "#%%\n"
    }
   }
  },
  {
   "cell_type": "code",
   "execution_count": 176,
   "outputs": [
    {
     "data": {
      "text/plain": "<Figure size 432x288 with 1 Axes>",
      "image/png": "[encoded data removed]"
     },
     "metadata": {
      "needs_background": "light"
     },
     "output_type": "display_data"
    },
    {
     "name": "stdout",
     "output_type": "stream",
     "text": [
      "[6]\n",
      "[4.5126328203814055]\n"
     ]
    },
    {
     "data": {
      "text/plain": "   real test result  test predicted result\n0                 6               4.512633",
      "text/html": "<div>\n<style scoped>\n    .dataframe tbody tr th:only-of-type {\n        vertical-align: middle;\n    }\n\n    .dataframe tbody tr th {\n        vertical-align: top;\n    }\n\n    .dataframe thead th {\n        text-align: right;\n    }\n</style>\n<table border=\"1\" class=\"dataframe\">\n  <thead>\n    <tr style=\"text-align: right;\">\n      <th></th>\n      <th>real test result</th>\n      <th>test predicted result</th>\n    </tr>\n  </thead>\n  <tbody>\n    <tr>\n      <th>0</th>\n      <td>6</td>\n      <td>4.512633</td>\n    </tr>\n  </tbody>\n</table>\n</div>"
     },
     "execution_count": 176,
     "metadata": {},
     "output_type": "execute_result"
    }
   ],
   "source": [
    "elman = ElmanNeuralNetwork(dataset_size=40, total_sequence_number=8, train_sequence=30,\n",
    "                           alpha_f=1e-4, alpha_x=5e-4, method=\"RP\", iteration_max=2000)\n",
    "\n",
    "elman.train_model()\n",
    "elman.test_model(np.array([[0,0,1,1,1,1,1,1]]))\n",
    "\n",
    "elman.show_error_log()\n",
    "\n",
    "# elman.show_train_data_frame()\n",
    "elman.show_test_data_frame()\n",
    "# print(elman.output_train_data.transpose().tolist()[0])\n",
    "\n",
    "\n"
   ],
   "metadata": {
    "collapsed": false,
    "pycharm": {
     "name": "#%%\n"
    }
   }
  }
 ],
 "metadata": {
  "kernelspec": {
   "name": "python3",
   "language": "python",
   "display_name": "Python 3"
  },
  "language_info": {
   "codemirror_mode": {
    "name": "ipython",
    "version": 2
   },
   "file_extension": ".py",
   "mimetype": "text/x-python",
   "name": "python",
   "nbconvert_exporter": "python",
   "pygments_lexer": "ipython2",
   "version": "2.7.6"
  }
 },
 "nbformat": 4,
 "nbformat_minor": 0
}